{
 "cells": [
  {
   "cell_type": "code",
   "execution_count": 3,
   "id": "0a3f7df3",
   "metadata": {},
   "outputs": [
    {
     "name": "stdout",
     "output_type": "stream",
     "text": [
      "<class 'tuple'> <class 'list'>\n"
     ]
    }
   ],
   "source": [
    "# a = [[2,3,4],\"vaibhav\"]\n",
    "# print(a)\n",
    "a = (\"h\",\"e\",\"l\",\"l\",\"o\")\n",
    "print(type(a) , type(list(a)))\n"
   ]
  },
  {
   "cell_type": "code",
   "execution_count": 1,
   "id": "f613279b",
   "metadata": {},
   "outputs": [
    {
     "name": "stdout",
     "output_type": "stream",
     "text": [
      "['vaibhav', 'Bhusawal', 50000]\n"
     ]
    }
   ],
   "source": [
    "a = [\"vaibhav\",\"Bhusawal\",45000]\n",
    "a[2] = 50000\n",
    "print(a)"
   ]
  },
  {
   "cell_type": "code",
   "execution_count": 4,
   "id": "f28a0ea7",
   "metadata": {},
   "outputs": [
    {
     "name": "stdout",
     "output_type": "stream",
     "text": [
      "Odd sum is 16 and even sum is 12\n"
     ]
    }
   ],
   "source": [
    "# WAP create a list having 7 int values to cal  sum of even num and oodd\n",
    "sume = 0\n",
    "sumo = 0\n",
    "a = [1,2,3,4,5,6,7 ]\n",
    "for i in a:\n",
    "    if(i %2 ==0):\n",
    "        sume += i\n",
    "    else:\n",
    "        sumo += i\n",
    "print(f\"Odd sum is {sumo} and even sum is {sume}\")"
   ]
  },
  {
   "cell_type": "code",
   "execution_count": 6,
   "id": "5ff1ba83",
   "metadata": {},
   "outputs": [
    {
     "name": "stdout",
     "output_type": "stream",
     "text": [
      "8\n",
      "['v', 'a', 'i', 'b', 'h', 'a', 'v']\n",
      "[1, 2, 3, 4, 56, 7, 8, 90, 54]\n",
      "None\n",
      "[1, 2, 3, 4, 56, 7, 8, 90, 54, [...]]\n"
     ]
    }
   ],
   "source": [
    "a = [1,2,3,4,56,7,8,90]\n",
    "print(len(a))\n",
    "print(list(\"vaibhav\"))\n",
    "a.append(54)\n",
    "print(a)\n",
    "print(a.append(a))\n",
    "print(a)\n"
   ]
  },
  {
   "cell_type": "code",
   "execution_count": 10,
   "id": "6a825187",
   "metadata": {},
   "outputs": [
    {
     "name": "stdout",
     "output_type": "stream",
     "text": [
      "[1, 2, 3, 3, 3, 3, 3, 3, 3, 3, 3, 3, 3, 3, 3, 3, 3, 3, 4, 5, 6, 7, 8]\n",
      "[20, 1, 2, 3, 3, 3, 3, 3, 3, 3, 3, 3, 3, 3, 3, 3, 3, 3, 3, 4, 5, 6, 7, 8] [40, 5, 6, 7, 8]\n"
     ]
    },
    {
     "data": {
      "text/plain": [
       "16"
      ]
     },
     "execution_count": 10,
     "metadata": {},
     "output_type": "execute_result"
    }
   ],
   "source": [
    "a = [1,2,3,3,3,3,3,3,3,3,3,3,3,3,3,3,3,3,4]\n",
    "b = [5,6,7,8]\n",
    "a.extend(b)\n",
    "print(a)\n",
    "a.insert(0,20)\n",
    "b.insert(0,40)\n",
    "print(a,b)\n",
    "a.count(3)"
   ]
  },
  {
   "cell_type": "code",
   "execution_count": 12,
   "id": "7c3032be",
   "metadata": {},
   "outputs": [
    {
     "name": "stdout",
     "output_type": "stream",
     "text": [
      "Enter the element you want to count : 3\n",
      "9\n"
     ]
    }
   ],
   "source": [
    "# create a list having 10 elements and also accept the nuber form user and to count how many times this num occ in list\n",
    "lis = [1,2,3,4,5,6,7,8,9,3,2,3,3,3,3,3,3,3]\n",
    "co = int(input(\"Enter the element you want to count : \"))\n",
    "\n",
    "print(lis.count(co))\n"
   ]
  },
  {
   "cell_type": "code",
   "execution_count": 14,
   "id": "86063cba",
   "metadata": {},
   "outputs": [
    {
     "name": "stdout",
     "output_type": "stream",
     "text": [
      "2\n"
     ]
    },
    {
     "ename": "ValueError",
     "evalue": "9 is not in list",
     "output_type": "error",
     "traceback": [
      "\u001b[1;31m---------------------------------------------------------------------------\u001b[0m",
      "\u001b[1;31mValueError\u001b[0m                                Traceback (most recent call last)",
      "Cell \u001b[1;32mIn[14], line 3\u001b[0m\n\u001b[0;32m      1\u001b[0m \u001b[38;5;28mlist\u001b[39m \u001b[38;5;241m=\u001b[39m [ \u001b[38;5;241m1\u001b[39m,\u001b[38;5;241m2\u001b[39m,\u001b[38;5;241m3\u001b[39m,\u001b[38;5;241m4\u001b[39m,\u001b[38;5;241m5\u001b[39m,\u001b[38;5;241m6\u001b[39m,\u001b[38;5;241m7\u001b[39m,\u001b[38;5;241m8\u001b[39m,\u001b[38;5;241m8\u001b[39m]\n\u001b[0;32m      2\u001b[0m \u001b[38;5;28mprint\u001b[39m(\u001b[38;5;28mlist\u001b[39m\u001b[38;5;241m.\u001b[39mindex(\u001b[38;5;241m3\u001b[39m))\n\u001b[1;32m----> 3\u001b[0m \u001b[38;5;28mprint\u001b[39m(\u001b[38;5;28mlist\u001b[39m\u001b[38;5;241m.\u001b[39mindex(\u001b[38;5;241m9\u001b[39m))\n",
      "\u001b[1;31mValueError\u001b[0m: 9 is not in list"
     ]
    }
   ],
   "source": [
    "list = [ 1,2,3,4,5,6,7,8,8]\n",
    "print(list.index(3))\n",
    "print(list.index(9))"
   ]
  },
  {
   "cell_type": "code",
   "execution_count": 17,
   "id": "99f83932",
   "metadata": {},
   "outputs": [
    {
     "name": "stdout",
     "output_type": "stream",
     "text": [
      "None\n",
      "[3, 2, 1]\n"
     ]
    },
    {
     "ename": "ValueError",
     "evalue": "list.remove(x): x not in list",
     "output_type": "error",
     "traceback": [
      "\u001b[1;31m---------------------------------------------------------------------------\u001b[0m",
      "\u001b[1;31mValueError\u001b[0m                                Traceback (most recent call last)",
      "Cell \u001b[1;32mIn[17], line 4\u001b[0m\n\u001b[0;32m      2\u001b[0m \u001b[38;5;28mprint\u001b[39m(\u001b[38;5;28mlist\u001b[39m\u001b[38;5;241m.\u001b[39mremove(\u001b[38;5;241m4\u001b[39m))\n\u001b[0;32m      3\u001b[0m \u001b[38;5;28mprint\u001b[39m(\u001b[38;5;28mlist\u001b[39m)\n\u001b[1;32m----> 4\u001b[0m \u001b[38;5;28mlist\u001b[39m\u001b[38;5;241m.\u001b[39mremove(\u001b[38;5;241m0\u001b[39m)\n\u001b[0;32m      5\u001b[0m \u001b[38;5;28mprint\u001b[39m(\u001b[38;5;28mlist\u001b[39m)\n",
      "\u001b[1;31mValueError\u001b[0m: list.remove(x): x not in list"
     ]
    }
   ],
   "source": [
    "list=[4,3,2,1]\n",
    "print(list.remove(4))\n",
    "print(list)\n",
    "list.remove(0)\n",
    "print(list)"
   ]
  },
  {
   "cell_type": "code",
   "execution_count": 25,
   "id": "043cf128",
   "metadata": {},
   "outputs": [
    {
     "name": "stdout",
     "output_type": "stream",
     "text": [
      "[9, 0, 2, 3, 4, 5]\n",
      "[5, 4, 3, 2, 0, 9]\n",
      "[0, 2, 3, 4, 5, 9]\n",
      "[9, 5, 4, 3, 2, 0]\n"
     ]
    }
   ],
   "source": [
    "list = [9,0,2,3,4,5,5]\n",
    "list.pop()\n",
    "print(list)\n",
    "list.reverse()\n",
    "print(list)\n",
    "list.sort()\n",
    "print(list)\n",
    "list.sort(reverse = True)\n",
    "print(list)"
   ]
  },
  {
   "cell_type": "code",
   "execution_count": 6,
   "id": "53c7debf",
   "metadata": {},
   "outputs": [
    {
     "name": "stdout",
     "output_type": "stream",
     "text": [
      "2\n"
     ]
    }
   ],
   "source": [
    "# creeat a list having 5 elements and to print second smallest element\n",
    "a = [1,2,3,4,5,6,7]\n",
    "# small = min(a)\n",
    "# print(small)\n",
    "# a.remove(small)\n",
    "# print(min(a))\n",
    "a.sort()\n",
    "print(a[1])\n"
   ]
  },
  {
   "cell_type": "code",
   "execution_count": 7,
   "id": "5ecaeced",
   "metadata": {},
   "outputs": [
    {
     "name": "stdout",
     "output_type": "stream",
     "text": [
      "Second smallest element is: 4\n"
     ]
    }
   ],
   "source": [
    "# WAP append , insert , modify , delet form pso , delet form given value , sort aces , sort dec , search existing ele , display the list \n"
   ]
  },
  {
   "cell_type": "code",
   "execution_count": 1,
   "id": "adf4f4a5",
   "metadata": {},
   "outputs": [
    {
     "name": "stdout",
     "output_type": "stream",
     "text": [
      "Enter the element5\n",
      "Enter the element3\n",
      "Enter the element3\n",
      "Enter the element3\n",
      "Enter the element3\n",
      "[5, 3, 3, 3, 3]\n",
      "odd sum is :17 and even is 0\n"
     ]
    }
   ],
   "source": [
    "# accept 5 element form user and append into the list and cal sum of odd and even\n",
    "a = []\n",
    "count = 1\n",
    "b = True\n",
    "while b:\n",
    "    if count == 5:\n",
    "        b = False\n",
    "    c = int(input(\"Enter the element\"))\n",
    "    a.append(c)\n",
    "    count += 1\n",
    "\n",
    "odd = 0\n",
    "even = 0\n",
    "for i in a :\n",
    "    if i %2 == 0 :\n",
    "        even += i\n",
    "    else:\n",
    "        odd += i\n",
    "print(a)\n",
    "print(f\"odd sum is :{odd} and even is: {even}\")\n",
    "        \n",
    "    "
   ]
  },
  {
   "cell_type": "code",
   "execution_count": 2,
   "id": "05655337",
   "metadata": {},
   "outputs": [
    {
     "name": "stdout",
     "output_type": "stream",
     "text": [
      "Enter the element 10\n",
      "Enter the element 70\n",
      "Enter the element 7\n",
      "Enter the element 5\n",
      "Enter the element 6\n",
      "Enter the element 9\n",
      "Enter the element 3\n",
      "Enter the element 4\n",
      "Enter the element 2\n",
      "Enter the element 3\n",
      "number divisible by 7 and 7  [10, 70, 7, 5]\n"
     ]
    }
   ],
   "source": [
    "# accept 10 elements from user and append it to list ans to display number which is div by 5 and 7\n",
    "lis = []\n",
    "div = []\n",
    "for i in range(0,10):\n",
    "    a = int(input(\"Enter the element \"))\n",
    "    lis.append(a)\n",
    "    if lis[i]%5 ==0 or lis[i]%7 == 0:\n",
    "        div.append(lis[i])\n",
    "print(\"number divisible by 7 and 5 \",div)\n"
   ]
  },
  {
   "cell_type": "code",
   "execution_count": null,
   "id": "cd158715",
   "metadata": {},
   "outputs": [],
   "source": [
    "# accept the element forn user and lstore it ti laist and print max min sum and avg of the num \n",
    "a = []\n",
    "sum = 0\n",
    "\n",
    "totalnum = int(input(\"the total number of count u want to enter\"))\n",
    "for i in range(0,totalnum):\n",
    "    num = int(input(\"Enter the element\"))\n",
    "    a.append(i)\n",
    "for i in a:\n",
    "    sum += i\n",
    "avg = sum / len(a)\n",
    "print(\"Total sum is \", sum)    \n",
    "print(\"average is\", avg)\n",
    "print(min(a))\n",
    "print(max(a))"
   ]
  }
 ],
 "metadata": {
  "kernelspec": {
   "display_name": "Python 3 (ipykernel)",
   "language": "python",
   "name": "python3"
  },
  "language_info": {
   "codemirror_mode": {
    "name": "ipython",
    "version": 3
   },
   "file_extension": ".py",
   "mimetype": "text/x-python",
   "name": "python",
   "nbconvert_exporter": "python",
   "pygments_lexer": "ipython3",
   "version": "3.11.5"
  }
 },
 "nbformat": 4,
 "nbformat_minor": 5
}
