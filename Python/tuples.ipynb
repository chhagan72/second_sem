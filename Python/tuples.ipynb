{
 "cells": [
  {
   "cell_type": "code",
   "execution_count": 15,
   "id": "413adfdd",
   "metadata": {},
   "outputs": [
    {
     "name": "stdout",
     "output_type": "stream",
     "text": [
      "(1, 2, 3, 4, 4, 5, 6, 7, (1, 2, 3))\n",
      "(1, 2, 3, 4, 4, 5, 6, 7, (1, 2, 3))\n",
      "(1, 2)\n",
      "((1, 2, 3), 7)\n"
     ]
    }
   ],
   "source": [
    "a = (1,2,3,4,4,5,6,7,(1,2,3))\n",
    "print(a)\n",
    "v = (1,2,3,4,5)\n",
    "v = a[:]\n",
    "print(v)\n",
    "print(a[0:2])\n",
    "print(a[:-3:-1])\n",
    "\n",
    "\n",
    "# # list                               tuple\n",
    "# mutable                         immutable\n",
    "# syntax []                        syntax()\n",
    "# read and write                     readable\n",
    "# hug varity of built in fun          tuple contain less built in finction"
   ]
  },
  {
   "cell_type": "code",
   "execution_count": 19,
   "id": "0be0b705",
   "metadata": {},
   "outputs": [
    {
     "name": "stdout",
     "output_type": "stream",
     "text": [
      "<class 'int'>\n",
      "<class 'tuple'>\n",
      "<class 'tuple'>\n",
      "2\n"
     ]
    }
   ],
   "source": [
    "a = (200)\n",
    "b = (200,)\n",
    "c = 1,2,3,4,5,6,7,8,9\n",
    "print(type(a))\n",
    "print(type(b))\n",
    "print(type(c))\n",
    "print(c[1])\n"
   ]
  },
  {
   "cell_type": "code",
   "execution_count": 1,
   "id": "48007f99",
   "metadata": {},
   "outputs": [
    {
     "name": "stdout",
     "output_type": "stream",
     "text": [
      "4\n"
     ]
    }
   ],
   "source": [
    "ba = [1,2,3,4]\n",
    "print(len(ba))"
   ]
  },
  {
   "cell_type": "code",
   "execution_count": 3,
   "id": "2311f5db",
   "metadata": {},
   "outputs": [
    {
     "name": "stdout",
     "output_type": "stream",
     "text": [
      "[6, 5, 4, 7, 3, 2, 1]\n"
     ]
    }
   ],
   "source": [
    "import math\n",
    "a = [ 1,2,3,4,5,6,7]\n",
    "len1 = len(a)\n",
    "mid = len1/2\n",
    "po = a.pop()\n",
    "p = a.reverse()\n",
    "a.insert(math.floor(mid),po)\n",
    "print(a)"
   ]
  },
  {
   "cell_type": "code",
   "execution_count": 28,
   "id": "8e299de8",
   "metadata": {},
   "outputs": [
    {
     "name": "stdout",
     "output_type": "stream",
     "text": [
      "5\n",
      "10\n"
     ]
    }
   ],
   "source": [
    "# create a 5 ele in tuple and display the numer which is div by 5\n",
    "tup = (1,2,3,4,5,6,7,8,9,10)\n",
    "for i in tup:\n",
    "    if i %5 == 0:\n",
    "        print(i)"
   ]
  },
  {
   "cell_type": "code",
   "execution_count": 10,
   "id": "85ca1bce",
   "metadata": {},
   "outputs": [
    {
     "name": "stdout",
     "output_type": "stream",
     "text": [
      "(1, 2, 3, 4, 6, 7, 8, 9, 6)\n"
     ]
    }
   ],
   "source": [
    "a = (1,2,3,4)\n",
    "b = (6,7,8,9)\n",
    "a += b\n",
    "a += (6,)\n",
    "print(a)\n"
   ]
  },
  {
   "cell_type": "code",
   "execution_count": 13,
   "id": "b8c380dd",
   "metadata": {},
   "outputs": [
    {
     "ename": "TypeError",
     "evalue": "can only concatenate tuple (not \"str\") to tuple",
     "output_type": "error",
     "traceback": [
      "\u001b[1;31m---------------------------------------------------------------------------\u001b[0m",
      "\u001b[1;31mTypeError\u001b[0m                                 Traceback (most recent call last)",
      "Cell \u001b[1;32mIn[13], line 3\u001b[0m\n\u001b[0;32m      1\u001b[0m a \u001b[38;5;241m=\u001b[39m \u001b[38;5;241m1\u001b[39m,\u001b[38;5;241m2\u001b[39m,\u001b[38;5;241m3\u001b[39m,\u001b[38;5;241m4\u001b[39m,\u001b[38;5;241m5\u001b[39m,\u001b[38;5;241m6\u001b[39m,\u001b[38;5;241m7\u001b[39m,\u001b[38;5;241m8\u001b[39m,\u001b[38;5;241m9\u001b[39m,\u001b[38;5;241m10\u001b[39m\n\u001b[0;32m      2\u001b[0m b \u001b[38;5;241m=\u001b[39m \u001b[38;5;124m\"\u001b[39m\u001b[38;5;124mvaibhav\u001b[39m\u001b[38;5;124m\"\u001b[39m\n\u001b[1;32m----> 3\u001b[0m a \u001b[38;5;241m+\u001b[39m\u001b[38;5;241m=\u001b[39m b\n\u001b[0;32m      5\u001b[0m c \u001b[38;5;241m=\u001b[39m \u001b[38;5;241m2\u001b[39m\n\u001b[0;32m      6\u001b[0m \u001b[38;5;28mprint\u001b[39m(a)\n",
      "\u001b[1;31mTypeError\u001b[0m: can only concatenate tuple (not \"str\") to tuple"
     ]
    }
   ],
   "source": [
    "a = 1,2,3,4,5,6,7,8,9,10\n",
    "b = \"vaibhav\"\n",
    "a += b\n",
    "\n",
    "c = 2\n",
    "print(a)\n",
    "a += c\n",
    "print(a)"
   ]
  },
  {
   "cell_type": "code",
   "execution_count": 16,
   "id": "15ce6017",
   "metadata": {},
   "outputs": [
    {
     "data": {
      "text/plain": [
       "(2, 3, 4)"
      ]
     },
     "execution_count": 16,
     "metadata": {},
     "output_type": "execute_result"
    }
   ],
   "source": [
    "a = 1,2,3,4\n",
    "b = 1,2,3,4,5\n",
    "2 in a\n",
    "6 not in a\n",
    "a[1:]\n"
   ]
  },
  {
   "cell_type": "code",
   "execution_count": null,
   "id": "802be916",
   "metadata": {},
   "outputs": [],
   "source": [
    "# write a program to add num in tuple\n",
    "tup =()\n",
    "n=5\n",
    "\n",
    "for i in range(n):\n",
    "    a = int(input(\"Enter the number\"))\n",
    "    tup += (a,)\n",
    "    \n",
    "print(tup)"
   ]
  },
  {
   "cell_type": "code",
   "execution_count": 1,
   "id": "2f3b1b88",
   "metadata": {},
   "outputs": [
    {
     "name": "stdout",
     "output_type": "stream",
     "text": [
      "(1, 2, 3, 4)\n"
     ]
    }
   ],
   "source": [
    "tup = tuple()\n",
    "tup1 = list(tup)\n",
    "tup1.append(1)\n",
    "tup1.append(2)\n",
    "tup1.append(3)\n",
    "tup1.append(4)\n",
    "tup0 = tuple(tup1)\n",
    "print(tup0)"
   ]
  },
  {
   "cell_type": "code",
   "execution_count": null,
   "id": "ae229574",
   "metadata": {},
   "outputs": [],
   "source": [
    "# write a python program input any two tuples and swap their value"
   ]
  }
 ],
 "metadata": {
  "celltoolbar": "Raw Cell Format",
  "kernelspec": {
   "display_name": "Python 3 (ipykernel)",
   "language": "python",
   "name": "python3"
  },
  "language_info": {
   "codemirror_mode": {
    "name": "ipython",
    "version": 3
   },
   "file_extension": ".py",
   "mimetype": "text/x-python",
   "name": "python",
   "nbconvert_exporter": "python",
   "pygments_lexer": "ipython3",
   "version": "3.11.5"
  }
 },
 "nbformat": 4,
 "nbformat_minor": 5
}
