{
 "cells": [
  {
   "cell_type": "code",
   "execution_count": 2,
   "id": "9a9e74c6",
   "metadata": {},
   "outputs": [],
   "source": [
    "import numpy as np\n",
    "import pandas as pd"
   ]
  },
  {
   "cell_type": "code",
   "execution_count": 3,
   "id": "fc2d9ba6",
   "metadata": {},
   "outputs": [
    {
     "name": "stdout",
     "output_type": "stream",
     "text": [
      "      Name  Age      City\n",
      "0    Rishi   21      Pune\n",
      "1      Ram   30    Mumbai\n",
      "2       PM   20    Satara\n",
      "3    Rejoy   23        MP\n",
      "4      Raj   21      Pune\n",
      "5  Vaibhav   22  Bhusaval\n",
      "\n",
      "    Name  Age    City\n",
      "0  Rishi   21    Pune\n",
      "1    Ram   30  Mumbai\n",
      "2     PM   20  Satara\n",
      "\n",
      "      Name  Age      City\n",
      "3    Rejoy   23        MP\n",
      "4      Raj   21      Pune\n",
      "5  Vaibhav   22  Bhusaval\n",
      "\n",
      "      Name\n",
      "0    Rishi\n",
      "1      Ram\n",
      "2       PM\n",
      "3    Rejoy\n",
      "4      Raj\n",
      "5  Vaibhav\n"
     ]
    }
   ],
   "source": [
    "#Data Frame\n",
    "data={\"Name\":[\"Rishi\",\"Ram\",\"PM\",\"Rejoy\",\"Raj\",\"Vaibhav\"],\"Age\":[21,30,20,23,21,22],\"City\":[\"Pune\",\"Mumbai\",\"Satara\",\"MP\",\"Pune\"\n",
    "                                                                                            ,\"Bhusaval\"]}\n",
    "df=pd.DataFrame(data)\n",
    "print(df) \n",
    "print(\"\")\n",
    "print(df.head(3)) #By default 5 element\n",
    "print(\"\")\n",
    "print(df.tail(3))\n",
    "print(\"\")\n",
    "print(df[[\"Name\"]]) #Retriving any column from data frame"
   ]
  },
  {
   "cell_type": "code",
   "execution_count": 4,
   "id": "459d259e",
   "metadata": {},
   "outputs": [
    {
     "name": "stdout",
     "output_type": "stream",
     "text": [
      "   List1  List2  List3\n",
      "0     10     20     30\n",
      "1     20     20     40\n",
      "2     30     20     50\n",
      "3     40     20     60\n",
      "4     50     20     70\n"
     ]
    }
   ],
   "source": [
    "#To add new column\n",
    "s=pd.Series([10,20,30,40,50])\n",
    "df=pd.DataFrame(s)\n",
    "df.columns=[\"List1\"]\n",
    "df[\"List2\"]=20\n",
    "df[\"List3\"]=df[\"List1\"]+df[\"List2\"]\n",
    "print(df)"
   ]
  },
  {
   "cell_type": "code",
   "execution_count": 5,
   "id": "8dbbfc75",
   "metadata": {},
   "outputs": [
    {
     "name": "stdout",
     "output_type": "stream",
     "text": [
      "      Name  Age      City\n",
      "0    Rishi   21      Pune\n",
      "1      Ram   30    Mumbai\n",
      "2       PM   20    Satara\n",
      "3    Rejoy   23        MP\n",
      "4      Raj   21      Pune\n",
      "5  Vaibhav   22  Bhusaval\n"
     ]
    },
    {
     "data": {
      "text/html": [
       "<div>\n",
       "<style scoped>\n",
       "    .dataframe tbody tr th:only-of-type {\n",
       "        vertical-align: middle;\n",
       "    }\n",
       "\n",
       "    .dataframe tbody tr th {\n",
       "        vertical-align: top;\n",
       "    }\n",
       "\n",
       "    .dataframe thead th {\n",
       "        text-align: right;\n",
       "    }\n",
       "</style>\n",
       "<table border=\"1\" class=\"dataframe\">\n",
       "  <thead>\n",
       "    <tr style=\"text-align: right;\">\n",
       "      <th></th>\n",
       "      <th>Name</th>\n",
       "      <th>Age</th>\n",
       "      <th>City</th>\n",
       "      <th>Internal</th>\n",
       "      <th>External</th>\n",
       "      <th>Total || 150</th>\n",
       "    </tr>\n",
       "  </thead>\n",
       "  <tbody>\n",
       "    <tr>\n",
       "      <th>0</th>\n",
       "      <td>Rishi</td>\n",
       "      <td>21</td>\n",
       "      <td>Pune</td>\n",
       "      <td>20</td>\n",
       "      <td>40</td>\n",
       "      <td>60</td>\n",
       "    </tr>\n",
       "    <tr>\n",
       "      <th>1</th>\n",
       "      <td>Ram</td>\n",
       "      <td>30</td>\n",
       "      <td>Mumbai</td>\n",
       "      <td>40</td>\n",
       "      <td>70</td>\n",
       "      <td>110</td>\n",
       "    </tr>\n",
       "    <tr>\n",
       "      <th>2</th>\n",
       "      <td>PM</td>\n",
       "      <td>20</td>\n",
       "      <td>Satara</td>\n",
       "      <td>30</td>\n",
       "      <td>80</td>\n",
       "      <td>110</td>\n",
       "    </tr>\n",
       "    <tr>\n",
       "      <th>3</th>\n",
       "      <td>Rejoy</td>\n",
       "      <td>23</td>\n",
       "      <td>MP</td>\n",
       "      <td>45</td>\n",
       "      <td>100</td>\n",
       "      <td>145</td>\n",
       "    </tr>\n",
       "    <tr>\n",
       "      <th>4</th>\n",
       "      <td>Raj</td>\n",
       "      <td>21</td>\n",
       "      <td>Pune</td>\n",
       "      <td>50</td>\n",
       "      <td>60</td>\n",
       "      <td>110</td>\n",
       "    </tr>\n",
       "    <tr>\n",
       "      <th>5</th>\n",
       "      <td>Vaibhav</td>\n",
       "      <td>22</td>\n",
       "      <td>Bhusaval</td>\n",
       "      <td>30</td>\n",
       "      <td>80</td>\n",
       "      <td>110</td>\n",
       "    </tr>\n",
       "  </tbody>\n",
       "</table>\n",
       "</div>"
      ],
      "text/plain": [
       "      Name  Age      City  Internal  External  Total || 150\n",
       "0    Rishi   21      Pune        20        40            60\n",
       "1      Ram   30    Mumbai        40        70           110\n",
       "2       PM   20    Satara        30        80           110\n",
       "3    Rejoy   23        MP        45       100           145\n",
       "4      Raj   21      Pune        50        60           110\n",
       "5  Vaibhav   22  Bhusaval        30        80           110"
      ]
     },
     "execution_count": 5,
     "metadata": {},
     "output_type": "execute_result"
    }
   ],
   "source": [
    "#To add a column i dataframe\n",
    "data={\"Name\":[\"Rishi\",\"Ram\",\"PM\",\"Rejoy\",\"Raj\",\"Vaibhav\"],\n",
    "      \"Age\":[21,30,20,23,21,22],\n",
    "      \"City\":[\"Pune\",\"Mumbai\",\"Satara\",\"MP\",\"Pune\",\"Bhusaval\"]}\n",
    "df=pd.DataFrame(data)\n",
    "print(df) \n",
    "\n",
    "df[\"Internal\"]=[20,40,30,45,50,30]\n",
    "df[\"External\"]=[40,70,80,100,60,80]\n",
    "df[\"Total || 150\"]=df[\"Internal\"]+df[\"External\"]\n",
    "df"
   ]
  },
  {
   "cell_type": "code",
   "execution_count": 3,
   "id": "a470c511",
   "metadata": {},
   "outputs": [
    {
     "ename": "SyntaxError",
     "evalue": "invalid syntax (3255076819.py, line 3)",
     "output_type": "error",
     "traceback": [
      "\u001b[1;36m  Cell \u001b[1;32mIn[3], line 3\u001b[1;36m\u001b[0m\n\u001b[1;33m    df.del[\"List3\"]\u001b[0m\n\u001b[1;37m       ^\u001b[0m\n\u001b[1;31mSyntaxError\u001b[0m\u001b[1;31m:\u001b[0m invalid syntax\n"
     ]
    }
   ],
   "source": [
    "#Delete a column from dataframe\n",
    "#1.del\n",
    "df.del[\"List3\"]\n",
    "df"
   ]
  },
  {
   "cell_type": "code",
   "execution_count": null,
   "id": "0135068b",
   "metadata": {},
   "outputs": [],
   "source": [
    "#2.pop()\n",
    "df.pop(\"List2\")\n",
    "df"
   ]
  },
  {
   "cell_type": "code",
   "execution_count": null,
   "id": "7fa3b3f6",
   "metadata": {},
   "outputs": [],
   "source": [
    "#3.drop()\n",
    "s=pd.Series([10,20,30,40])\n",
    "df=pd.DataFrame(s)\n",
    "df.columns=[\"List1\"]\n",
    "df[\"List2\"]=40\n",
    "df1=df.drop(\"List2\",axis=1)\n",
    "df2=df.drop(index=[2,3],axis=0)\n",
    "print(\"\")\n",
    "print(df)\n",
    "print(\"\")\n",
    "print(df1)\n",
    "print(\"\")\n",
    "print(df2)"
   ]
  },
  {
   "cell_type": "code",
   "execution_count": 12,
   "id": "93d98566",
   "metadata": {},
   "outputs": [
    {
     "name": "stdout",
     "output_type": "stream",
     "text": [
      "       TCS  WIPRO   L&T\n",
      "Qtr1  2000   2000  2000\n",
      "Qtr2  3000   3000  3000\n",
      "Qtr3  4000   4000  4000\n",
      "Qtr4  5000   5000  5000\n",
      "\n",
      "TCS      2000\n",
      "WIPRO    2000\n",
      "L&T      2000\n",
      "Name: Qtr1, dtype: int64\n",
      "\n",
      "       TCS  WIPRO   L&T\n",
      "Qtr1  2000   2000  2000\n",
      "Qtr2  3000   3000  3000\n",
      "Qtr3  4000   4000  4000\n",
      "\n",
      "3000\n",
      "\n",
      "Qtr1    2000\n",
      "Qtr2    3000\n",
      "Qtr3    4000\n",
      "Qtr4    5000\n",
      "Name: TCS, dtype: int64\n",
      "       TCS  WIPRO\n",
      "Qtr1  2000   2000\n",
      "Qtr2  3000   3000\n",
      "Qtr3  4000   4000\n",
      "Qtr4  5000   5000\n"
     ]
    },
    {
     "data": {
      "text/html": [
       "<div>\n",
       "<style scoped>\n",
       "    .dataframe tbody tr th:only-of-type {\n",
       "        vertical-align: middle;\n",
       "    }\n",
       "\n",
       "    .dataframe tbody tr th {\n",
       "        vertical-align: top;\n",
       "    }\n",
       "\n",
       "    .dataframe thead th {\n",
       "        text-align: right;\n",
       "    }\n",
       "</style>\n",
       "<table border=\"1\" class=\"dataframe\">\n",
       "  <thead>\n",
       "    <tr style=\"text-align: right;\">\n",
       "      <th></th>\n",
       "      <th>TCS</th>\n",
       "      <th>WIPRO</th>\n",
       "      <th>L&amp;T</th>\n",
       "    </tr>\n",
       "  </thead>\n",
       "  <tbody>\n",
       "    <tr>\n",
       "      <th>Qtr1</th>\n",
       "      <td>2000</td>\n",
       "      <td>2000</td>\n",
       "      <td>2000</td>\n",
       "    </tr>\n",
       "    <tr>\n",
       "      <th>Qtr2</th>\n",
       "      <td>3000</td>\n",
       "      <td>3000</td>\n",
       "      <td>3000</td>\n",
       "    </tr>\n",
       "    <tr>\n",
       "      <th>Qtr3</th>\n",
       "      <td>4000</td>\n",
       "      <td>4000</td>\n",
       "      <td>4000</td>\n",
       "    </tr>\n",
       "    <tr>\n",
       "      <th>Qtr4</th>\n",
       "      <td>5000</td>\n",
       "      <td>5000</td>\n",
       "      <td>5000</td>\n",
       "    </tr>\n",
       "  </tbody>\n",
       "</table>\n",
       "</div>"
      ],
      "text/plain": [
       "       TCS  WIPRO   L&T\n",
       "Qtr1  2000   2000  2000\n",
       "Qtr2  3000   3000  3000\n",
       "Qtr3  4000   4000  4000\n",
       "Qtr4  5000   5000  5000"
      ]
     },
     "execution_count": 12,
     "metadata": {},
     "output_type": "execute_result"
    }
   ],
   "source": [
    "#Loc method - Location for column and row\n",
    "Runs={\"TCS\":{\"Qtr1\":2000,\"Qtr2\":3000,\"Qtr3\":4000,\"Qtr4\":5000},\n",
    "     \"WIPRO\":{\"Qtr1\":2000,\"Qtr2\":3000,\"Qtr3\":4000,\"Qtr4\":5000},\n",
    "     \"L&T\":{\"Qtr1\":2000,\"Qtr2\":3000,\"Qtr3\":4000,\"Qtr4\":5000}}\n",
    "df=pd.DataFrame(Runs)\n",
    "print(df)\n",
    "print(\"\")\n",
    "print(df.loc[\"Qtr1\",:])\n",
    "print(\"\")\n",
    "print(df.loc[\"Qtr1\":\"Qtr3\"])\n",
    "print(\"\")\n",
    "print(df.loc[\"Qtr2\",\"WIPRO\"])\n",
    "print(\"\")\n",
    "print(df.loc[:,\"TCS\"])\n",
    "print(df.loc[:,\"TCS\":\"WIPRO\"])\n",
    "df"
   ]
  },
  {
   "cell_type": "code",
   "execution_count": null,
   "id": "42985d22",
   "metadata": {},
   "outputs": [],
   "source": [
    "#13-03-2024"
   ]
  },
  {
   "cell_type": "code",
   "execution_count": 7,
   "id": "c15eb360",
   "metadata": {},
   "outputs": [
    {
     "name": "stdout",
     "output_type": "stream",
     "text": [
      "     City\n",
      "2  Satara\n",
      "\n",
      "      Name  Age      City  Internal  External  Total || 150\n",
      "0    Rishi   21      Pune        20        40            60\n",
      "1      Ram   30    Mumbai        40        70           110\n",
      "2       PM   20    Satara        30        80           110\n",
      "3    Rejoy   23        MP        45       100           145\n",
      "4      Raj   21      Pune        50        60           110\n",
      "5  Vaibhav   22  Bhusaval        30        80           110\n"
     ]
    }
   ],
   "source": [
    "# 3rd col and 3rd row\n",
    "print(df.iloc[2:3,2:3])\n",
    "print(\"\")\n",
    "print(df)"
   ]
  },
  {
   "cell_type": "code",
   "execution_count": 8,
   "id": "b154e4e8",
   "metadata": {},
   "outputs": [
    {
     "name": "stdout",
     "output_type": "stream",
     "text": [
      "       TCS  WIPRO   L&T\n",
      "Qtr3  4000   4000  4000\n",
      "Qtr4  5000   5000  5000\n"
     ]
    }
   ],
   "source": [
    "# last 2 rows\n",
    "print(df.iloc[2:,:])\n"
   ]
  },
  {
   "cell_type": "code",
   "execution_count": 9,
   "id": "c49523d3",
   "metadata": {},
   "outputs": [
    {
     "name": "stdout",
     "output_type": "stream",
     "text": [
      "       TCS  WIPRO   L&T\n",
      "Qtr1  2000   2000  2000\n",
      "Qtr2  3000   3000  3000\n",
      "       TCS  WIPRO   L&T\n",
      "Qtr3  4000   4000  4000\n",
      "Qtr4  5000   5000  5000\n"
     ]
    }
   ],
   "source": [
    "print(df.head(2))\n",
    "print(df.tail(2))"
   ]
  },
  {
   "cell_type": "code",
   "execution_count": 10,
   "id": "7e346aa4",
   "metadata": {},
   "outputs": [
    {
     "name": "stdout",
     "output_type": "stream",
     "text": [
      "         Name  Age\n",
      "True   rachin   22\n",
      "False  sachin   45\n",
      "True     mahi   39\n",
      "False   rohit   36\n",
      "True    virat   35\n",
      "        Name  Age\n",
      "True  rachin   22\n",
      "True    mahi   39\n",
      "True   virat   35 \n",
      "\n",
      "Name    virat\n",
      "Age        35\n",
      "Name: True, dtype: object\n"
     ]
    }
   ],
   "source": [
    "# boolean index\n",
    "dic={\n",
    "    'Name':['rachin','sachin','mahi','rohit','virat'],\n",
    "    'Age':[22,45,39,36,35]\n",
    "}\n",
    "df=pd.DataFrame(dic,index=[True,False,True,False,True])\n",
    "print(df)\n",
    "print(df.loc[True],\"\\n\")\n",
    "print(df.iloc[4])"
   ]
  },
  {
   "cell_type": "code",
   "execution_count": 12,
   "id": "4126dfcc",
   "metadata": {},
   "outputs": [
    {
     "name": "stdout",
     "output_type": "stream",
     "text": [
      "  id value1 value2\n",
      "0  1      A      B\n",
      "1  2      C      D\n",
      "2  3      E      F\n",
      "3  4      G      H\n",
      "4  5      I      J\n",
      "0  2      K      L\n",
      "1  3      M      N\n",
      "2  6      O      P\n",
      "3  7      Q      R\n",
      "4  8      S      T\n"
     ]
    }
   ],
   "source": [
    "# concat two dataFrames\n",
    "dict1={'id':['1','2','3','4','5'],'value1':['A','C','E','G','I'],'value2':['B','D','F','H','J']}\n",
    "dict2={'id':['2','3','6','7','8'],'value1':['K','M','O','Q','S'],'value2':['L','N','P','R','T']}\n",
    "df1=pd.DataFrame(dict1)\n",
    "df2=pd.DataFrame(dict2)\n",
    "df3=pd.concat([df1,df2])\n",
    "print(df3)\n",
    "# automatically dosen't increment index value "
   ]
  },
  {
   "cell_type": "code",
   "execution_count": 13,
   "id": "ca33b422",
   "metadata": {},
   "outputs": [
    {
     "name": "stdout",
     "output_type": "stream",
     "text": [
      "  id value1 value2\n",
      "0  1      A      B\n",
      "1  2      C      D\n",
      "2  3      E      F\n",
      "3  4      G      H\n",
      "4  5      I      J\n"
     ]
    }
   ],
   "source": [
    "print(df1)"
   ]
  },
  {
   "cell_type": "code",
   "execution_count": 14,
   "id": "cc5fe2ee",
   "metadata": {},
   "outputs": [
    {
     "name": "stdout",
     "output_type": "stream",
     "text": [
      "  id value1 value2\n",
      "0  2      K      L\n",
      "1  3      M      N\n",
      "2  6      O      P\n",
      "3  7      Q      R\n",
      "4  8      S      T\n"
     ]
    }
   ],
   "source": [
    "print(df2)"
   ]
  },
  {
   "cell_type": "code",
   "execution_count": 15,
   "id": "e76473ad",
   "metadata": {},
   "outputs": [
    {
     "name": "stdout",
     "output_type": "stream",
     "text": [
      "  id value1 value2\n",
      "0  1      A      B\n",
      "1  2      C      D\n",
      "2  3      E      F\n",
      "3  4      G      H\n",
      "4  5      I      J\n",
      "5  2      K      L\n",
      "6  3      M      N\n",
      "7  6      O      P\n",
      "8  7      Q      R\n",
      "9  8      S      T\n"
     ]
    }
   ],
   "source": [
    "# automatically increment index value i.e 0.......9 or end index using ignore_index\n",
    "df3=pd.concat([df1,df2],ignore_index=True)\n",
    "print(df3)"
   ]
  },
  {
   "cell_type": "code",
   "execution_count": 16,
   "id": "0e72185c",
   "metadata": {},
   "outputs": [
    {
     "name": "stdout",
     "output_type": "stream",
     "text": [
      "  id value1 value2 id value1 value2\n",
      "0  1      A      B  2      K      L\n",
      "1  2      C      D  3      M      N\n",
      "2  3      E      F  6      O      P\n",
      "3  4      G      H  7      Q      R\n",
      "4  5      I      J  8      S      T\n"
     ]
    }
   ],
   "source": [
    "# axis=1 for column\n",
    "df3=pd.concat([df1,df2],axis=1)\n",
    "print(df3)"
   ]
  },
  {
   "cell_type": "code",
   "execution_count": 17,
   "id": "20858554",
   "metadata": {},
   "outputs": [
    {
     "name": "stdout",
     "output_type": "stream",
     "text": [
      "  id value1 value2\n",
      "0  1      A      B\n",
      "1  2      C      D\n",
      "2  3      E      F\n",
      "3  4      G      H\n",
      "4  5      I      J\n",
      "0  2      K      L\n",
      "1  3      M      N\n",
      "2  6      O      P\n",
      "3  7      Q      R\n",
      "4  8      S      T\n"
     ]
    }
   ],
   "source": [
    "# axis=0 for rows\n",
    "df3=pd.concat([df1,df2],axis=0)\n",
    "print(df3)\n"
   ]
  },
  {
   "cell_type": "code",
   "execution_count": 18,
   "id": "fbc4e8b8",
   "metadata": {},
   "outputs": [
    {
     "name": "stdout",
     "output_type": "stream",
     "text": [
      "        id value1 value2\n",
      "Data1 0  1      A      B\n",
      "      1  2      C      D\n",
      "      2  3      E      F\n",
      "      3  4      G      H\n",
      "      4  5      I      J\n",
      "Data2 0  2      K      L\n",
      "      1  3      M      N\n",
      "      2  6      O      P\n",
      "      3  7      Q      R\n",
      "      4  8      S      T\n"
     ]
    }
   ],
   "source": [
    "merge={'Data1':df1,'Data2':df2}\n",
    "df3=pd.concat(merge)\n",
    "print(df3)"
   ]
  },
  {
   "cell_type": "code",
   "execution_count": 19,
   "id": "3661db83",
   "metadata": {},
   "outputs": [
    {
     "name": "stdout",
     "output_type": "stream",
     "text": [
      "  id value1 value2  value3\n",
      "0  1      A      B      12\n",
      "1  2      C      D      13\n",
      "2  2      K      L      13\n",
      "3  3      E      F      14\n",
      "4  3      M      N      14\n",
      "5  4      G      H      15\n",
      "6  5      I      J      16\n",
      "7  7      Q      R      17\n",
      "8  8      S      T      15\n"
     ]
    }
   ],
   "source": [
    "# merge operation on dataframe\n",
    "dic1={'id':['1','2','3','4','5'],'value1':['A','C','E','G','I'],'value2':['B','D','F','H','J']}\n",
    "dic2={'id':['2','3','6','7','8'],'value1':['K','M','O','Q','S'],'value2':['L','N','P','R','T']}\n",
    "dic3={'id':['1','2','3','4','5','7','8','9','10','11'],'value3':[12,13,14,15,16,17,15,12,13,23]}\n",
    "df1=pd.DataFrame(dic1)\n",
    "df2=pd.DataFrame(dic2)\n",
    "df3=pd.concat([df1,df2])\n",
    "df4=pd.DataFrame(dic3)\n",
    "df5=pd.merge(df3,df4,on=\"id\")\n",
    "print(df5)"
   ]
  },
  {
   "cell_type": "code",
   "execution_count": 20,
   "id": "aa42d0d3",
   "metadata": {},
   "outputs": [
    {
     "name": "stdout",
     "output_type": "stream",
     "text": [
      "  id value1_x value2_x value1_y value2_y\n",
      "0  1        A        B      NaN      NaN\n",
      "1  2        C        D        K        L\n",
      "2  3        E        F        M        N\n",
      "3  4        G        H      NaN      NaN\n",
      "4  5        I        J      NaN      NaN\n",
      "5  6      NaN      NaN        O        P\n",
      "6  7      NaN      NaN        Q        R\n",
      "7  8      NaN      NaN        S        T\n"
     ]
    }
   ],
   "source": [
    "# union  = outer\n",
    "df5=pd.merge(df1,df2,on=\"id\",how='outer')\n",
    "print(df5)"
   ]
  },
  {
   "cell_type": "code",
   "execution_count": 21,
   "id": "6f934fad",
   "metadata": {},
   "outputs": [
    {
     "name": "stdout",
     "output_type": "stream",
     "text": [
      "  id value1_left value2_left value1_right value2_right\n",
      "0  1           A           B          NaN          NaN\n",
      "1  2           C           D            K            L\n",
      "2  3           E           F            M            N\n",
      "3  4           G           H          NaN          NaN\n",
      "4  5           I           J          NaN          NaN\n",
      "5  6         NaN         NaN            O            P\n",
      "6  7         NaN         NaN            Q            R\n",
      "7  8         NaN         NaN            S            T\n"
     ]
    }
   ],
   "source": [
    "df5=pd.merge(df1,df2,left_on=\"id\",right_on=\"id\",how='outer',suffixes=('_left','_right'))\n",
    "print(df5)"
   ]
  },
  {
   "cell_type": "code",
   "execution_count": 22,
   "id": "acd5d9b5",
   "metadata": {},
   "outputs": [
    {
     "name": "stdout",
     "output_type": "stream",
     "text": [
      "  id value1_x value2_x value1_y value2_y\n",
      "0  2        C        D        K        L\n",
      "1  3        E        F        M        N\n"
     ]
    }
   ],
   "source": [
    "# intersection = inner\n",
    "df5=pd.merge(df1,df2,on=\"id\",how='inner')\n",
    "print(df5)"
   ]
  },
  {
   "cell_type": "code",
   "execution_count": 23,
   "id": "be42174f",
   "metadata": {},
   "outputs": [
    {
     "name": "stdout",
     "output_type": "stream",
     "text": [
      "  id value1_x value2_x value1_y value2_y\n",
      "0  2        C        D        K        L\n",
      "1  3        E        F        M        N\n",
      "2  6      NaN      NaN        O        P\n",
      "3  7      NaN      NaN        Q        R\n",
      "4  8      NaN      NaN        S        T\n"
     ]
    }
   ],
   "source": [
    "# right join\n",
    "df5=pd.merge(df1,df2,on=\"id\",how='right')\n",
    "print(df5)"
   ]
  },
  {
   "cell_type": "code",
   "execution_count": 24,
   "id": "e81f0113",
   "metadata": {},
   "outputs": [
    {
     "name": "stdout",
     "output_type": "stream",
     "text": [
      "  id value1_x value2_x value1_y value2_y\n",
      "0  1        A        B      NaN      NaN\n",
      "1  2        C        D        K        L\n",
      "2  3        E        F        M        N\n",
      "3  4        G        H      NaN      NaN\n",
      "4  5        I        J      NaN      NaN\n"
     ]
    }
   ],
   "source": [
    "# left join\n",
    "df5=pd.merge(df1,df2,on=\"id\",how='left')\n",
    "print(df5)"
   ]
  },
  {
   "cell_type": "code",
   "execution_count": 25,
   "id": "23d1d4e2",
   "metadata": {},
   "outputs": [
    {
     "data": {
      "text/html": [
       "<div>\n",
       "<style scoped>\n",
       "    .dataframe tbody tr th:only-of-type {\n",
       "        vertical-align: middle;\n",
       "    }\n",
       "\n",
       "    .dataframe tbody tr th {\n",
       "        vertical-align: top;\n",
       "    }\n",
       "\n",
       "    .dataframe thead th {\n",
       "        text-align: right;\n",
       "    }\n",
       "</style>\n",
       "<table border=\"1\" class=\"dataframe\">\n",
       "  <thead>\n",
       "    <tr style=\"text-align: right;\">\n",
       "      <th></th>\n",
       "      <th>id_x</th>\n",
       "      <th>value1_x</th>\n",
       "      <th>value2_x</th>\n",
       "      <th>id_y</th>\n",
       "      <th>value1_y</th>\n",
       "      <th>value2_y</th>\n",
       "    </tr>\n",
       "  </thead>\n",
       "  <tbody>\n",
       "    <tr>\n",
       "      <th>0</th>\n",
       "      <td>1</td>\n",
       "      <td>A</td>\n",
       "      <td>B</td>\n",
       "      <td>2</td>\n",
       "      <td>K</td>\n",
       "      <td>L</td>\n",
       "    </tr>\n",
       "    <tr>\n",
       "      <th>1</th>\n",
       "      <td>2</td>\n",
       "      <td>C</td>\n",
       "      <td>D</td>\n",
       "      <td>3</td>\n",
       "      <td>M</td>\n",
       "      <td>N</td>\n",
       "    </tr>\n",
       "    <tr>\n",
       "      <th>2</th>\n",
       "      <td>3</td>\n",
       "      <td>E</td>\n",
       "      <td>F</td>\n",
       "      <td>6</td>\n",
       "      <td>O</td>\n",
       "      <td>P</td>\n",
       "    </tr>\n",
       "    <tr>\n",
       "      <th>3</th>\n",
       "      <td>4</td>\n",
       "      <td>G</td>\n",
       "      <td>H</td>\n",
       "      <td>7</td>\n",
       "      <td>Q</td>\n",
       "      <td>R</td>\n",
       "    </tr>\n",
       "    <tr>\n",
       "      <th>4</th>\n",
       "      <td>5</td>\n",
       "      <td>I</td>\n",
       "      <td>J</td>\n",
       "      <td>8</td>\n",
       "      <td>S</td>\n",
       "      <td>T</td>\n",
       "    </tr>\n",
       "  </tbody>\n",
       "</table>\n",
       "</div>"
      ],
      "text/plain": [
       "  id_x value1_x value2_x id_y value1_y value2_y\n",
       "0    1        A        B    2        K        L\n",
       "1    2        C        D    3        M        N\n",
       "2    3        E        F    6        O        P\n",
       "3    4        G        H    7        Q        R\n",
       "4    5        I        J    8        S        T"
      ]
     },
     "execution_count": 25,
     "metadata": {},
     "output_type": "execute_result"
    }
   ],
   "source": [
    "# joining index\n",
    "df5=pd.merge(df1,df2,left_index=True,right_index=True)\n",
    "df5"
   ]
  },
  {
   "cell_type": "code",
   "execution_count": 30,
   "id": "5798648e",
   "metadata": {},
   "outputs": [
    {
     "data": {
      "text/html": [
       "<div>\n",
       "<style scoped>\n",
       "    .dataframe tbody tr th:only-of-type {\n",
       "        vertical-align: middle;\n",
       "    }\n",
       "\n",
       "    .dataframe tbody tr th {\n",
       "        vertical-align: top;\n",
       "    }\n",
       "\n",
       "    .dataframe thead th {\n",
       "        text-align: right;\n",
       "    }\n",
       "</style>\n",
       "<table border=\"1\" class=\"dataframe\">\n",
       "  <thead>\n",
       "    <tr style=\"text-align: right;\">\n",
       "      <th></th>\n",
       "      <th>Sr. No.</th>\n",
       "      <th>Emp_ID</th>\n",
       "      <th>E_Name</th>\n",
       "      <th>D-O-B</th>\n",
       "    </tr>\n",
       "  </thead>\n",
       "  <tbody>\n",
       "    <tr>\n",
       "      <th>0</th>\n",
       "      <td>1</td>\n",
       "      <td>101</td>\n",
       "      <td>Rishi</td>\n",
       "      <td>21/08/2002</td>\n",
       "    </tr>\n",
       "    <tr>\n",
       "      <th>1</th>\n",
       "      <td>2</td>\n",
       "      <td>102</td>\n",
       "      <td>Ram</td>\n",
       "      <td>07/07/2000</td>\n",
       "    </tr>\n",
       "    <tr>\n",
       "      <th>2</th>\n",
       "      <td>3</td>\n",
       "      <td>103</td>\n",
       "      <td>PM</td>\n",
       "      <td>20/03/2003</td>\n",
       "    </tr>\n",
       "    <tr>\n",
       "      <th>3</th>\n",
       "      <td>4</td>\n",
       "      <td>104</td>\n",
       "      <td>Rejoy</td>\n",
       "      <td>15/01/2001</td>\n",
       "    </tr>\n",
       "    <tr>\n",
       "      <th>4</th>\n",
       "      <td>5</td>\n",
       "      <td>105</td>\n",
       "      <td>Kamal</td>\n",
       "      <td>12/12/2001</td>\n",
       "    </tr>\n",
       "  </tbody>\n",
       "</table>\n",
       "</div>"
      ],
      "text/plain": [
       "   Sr. No.  Emp_ID E_Name       D-O-B\n",
       "0        1     101  Rishi  21/08/2002\n",
       "1        2     102    Ram  07/07/2000\n",
       "2        3     103     PM  20/03/2003\n",
       "3        4     104  Rejoy  15/01/2001\n",
       "4        5     105  Kamal  12/12/2001"
      ]
     },
     "execution_count": 30,
     "metadata": {},
     "output_type": "execute_result"
    }
   ],
   "source": [
    "# csv\n",
    "df=pd.read_csv(\"Book1.csv\")\n",
    "df"
   ]
  },
  {
   "cell_type": "code",
   "execution_count": 31,
   "id": "323207eb",
   "metadata": {},
   "outputs": [],
   "source": [
    "# dataframe to csv\n",
    "runs={\n",
    "    'TCS':{\"qty1\":6500,\"qty2\":2000,\"qty3\":3000,\"qty4\":30000},\n",
    "    'Wipro':{\"qty1\":5500,\"qty2\":1000,\"qty3\":4000,\"qty4\":40000},\n",
    "    'l&T':{\"qty1\":4500,\"qty2\":3000,\"qty3\":5000,\"qty4\":50000},\n",
    "}\n",
    "df1=pd.DataFrame(runs)\n",
    "df1.to_csv(\"Book2.csv\")\n"
   ]
  },
  {
   "cell_type": "code",
   "execution_count": 32,
   "id": "6bd5899d",
   "metadata": {},
   "outputs": [
    {
     "data": {
      "text/html": [
       "<div>\n",
       "<style scoped>\n",
       "    .dataframe tbody tr th:only-of-type {\n",
       "        vertical-align: middle;\n",
       "    }\n",
       "\n",
       "    .dataframe tbody tr th {\n",
       "        vertical-align: top;\n",
       "    }\n",
       "\n",
       "    .dataframe thead th {\n",
       "        text-align: right;\n",
       "    }\n",
       "</style>\n",
       "<table border=\"1\" class=\"dataframe\">\n",
       "  <thead>\n",
       "    <tr style=\"text-align: right;\">\n",
       "      <th></th>\n",
       "      <th>Sr. No.</th>\n",
       "      <th>Emp_ID</th>\n",
       "      <th>E_Name</th>\n",
       "      <th>D-O-B</th>\n",
       "    </tr>\n",
       "  </thead>\n",
       "  <tbody>\n",
       "    <tr>\n",
       "      <th>0</th>\n",
       "      <td>1</td>\n",
       "      <td>101</td>\n",
       "      <td>Rishi</td>\n",
       "      <td>21/08/2002</td>\n",
       "    </tr>\n",
       "    <tr>\n",
       "      <th>1</th>\n",
       "      <td>2</td>\n",
       "      <td>102</td>\n",
       "      <td>Ram</td>\n",
       "      <td>07/07/2000</td>\n",
       "    </tr>\n",
       "    <tr>\n",
       "      <th>2</th>\n",
       "      <td>3</td>\n",
       "      <td>103</td>\n",
       "      <td>PM</td>\n",
       "      <td>20/03/2003</td>\n",
       "    </tr>\n",
       "    <tr>\n",
       "      <th>3</th>\n",
       "      <td>4</td>\n",
       "      <td>104</td>\n",
       "      <td>Rejoy</td>\n",
       "      <td>15/01/2001</td>\n",
       "    </tr>\n",
       "    <tr>\n",
       "      <th>4</th>\n",
       "      <td>5</td>\n",
       "      <td>105</td>\n",
       "      <td>Kamal</td>\n",
       "      <td>12/12/2001</td>\n",
       "    </tr>\n",
       "  </tbody>\n",
       "</table>\n",
       "</div>"
      ],
      "text/plain": [
       "   Sr. No.  Emp_ID E_Name       D-O-B\n",
       "0        1     101  Rishi  21/08/2002\n",
       "1        2     102    Ram  07/07/2000\n",
       "2        3     103     PM  20/03/2003\n",
       "3        4     104  Rejoy  15/01/2001\n",
       "4        5     105  Kamal  12/12/2001"
      ]
     },
     "execution_count": 32,
     "metadata": {},
     "output_type": "execute_result"
    }
   ],
   "source": [
    "df=pd.read_csv(\"Book1.csv\")\n",
    "df"
   ]
  },
  {
   "cell_type": "code",
   "execution_count": 34,
   "id": "d3255447",
   "metadata": {},
   "outputs": [
    {
     "name": "stdout",
     "output_type": "stream",
     "text": [
      "   Sr. No.  Emp_ID E_Name       D-O-B\n",
      "0        1     101  Rishi  21/08/2002\n",
      "1        2     102    Ram  07/07/2000 \n",
      "\n",
      "   Sr. No.  Emp_ID E_Name       D-O-B\n",
      "3        4     104  Rejoy  15/01/2001\n",
      "4        5     105  Kamal  12/12/2001\n"
     ]
    }
   ],
   "source": [
    "print(df.head(2),\"\\n\")\n",
    "print(df.tail(2))"
   ]
  },
  {
   "cell_type": "code",
   "execution_count": 8,
   "id": "d8f86bc4",
   "metadata": {},
   "outputs": [],
   "source": [
    "#14-03-2024"
   ]
  },
  {
   "cell_type": "code",
   "execution_count": 15,
   "id": "963eabcb",
   "metadata": {},
   "outputs": [
    {
     "name": "stdout",
     "output_type": "stream",
     "text": [
      "       TCS  WIPRO   L&T\n",
      "Qtr1  2000   2000  2000\n",
      "Qtr2  3000   3000  3000\n",
      "Qtr3  4000   4000  4000\n",
      "Qtr4  5000   5000  5000\n"
     ]
    }
   ],
   "source": [
    "#Loc method - Location for column and row\n",
    "Runs={\"TCS\":{\"Qtr1\":2000,\"Qtr2\":3000,\"Qtr3\":4000,\"Qtr4\":5000},\n",
    "     \"WIPRO\":{\"Qtr1\":2000,\"Qtr2\":3000,\"Qtr3\":4000,\"Qtr4\":5000},\n",
    "     \"L&T\":{\"Qtr1\":2000,\"Qtr2\":3000,\"Qtr3\":4000,\"Qtr4\":5000}}\n",
    "df=pd.DataFrame(Runs)\n",
    "print(df)"
   ]
  },
  {
   "cell_type": "code",
   "execution_count": 19,
   "id": "74e09c24",
   "metadata": {},
   "outputs": [
    {
     "name": "stdout",
     "output_type": "stream",
     "text": [
      "5000\n",
      "\n",
      "TCS      5000\n",
      "WIPRO    5000\n",
      "L&T      5000\n",
      "dtype: int64\n",
      "\n",
      "Qtr1    2000\n",
      "Qtr2    3000\n",
      "Qtr3    4000\n",
      "Qtr4    5000\n",
      "dtype: int64\n"
     ]
    }
   ],
   "source": [
    "#max\n",
    "print(df['WIPRO'].max())\n",
    "print(\"\")\n",
    "print(df.max(axis=0))\n",
    "print(\"\")\n",
    "print(df.max(axis=1))"
   ]
  },
  {
   "cell_type": "code",
   "execution_count": 20,
   "id": "28b002b7",
   "metadata": {},
   "outputs": [
    {
     "name": "stdout",
     "output_type": "stream",
     "text": [
      "2000\n",
      "\n",
      "TCS      2000\n",
      "WIPRO    2000\n",
      "L&T      2000\n",
      "dtype: int64\n",
      "\n",
      "Qtr1    2000\n",
      "Qtr2    3000\n",
      "Qtr3    4000\n",
      "Qtr4    5000\n",
      "dtype: int64\n"
     ]
    }
   ],
   "source": [
    "#min\n",
    "print(df['WIPRO'].min())\n",
    "print(\"\")\n",
    "print(df.min(axis=0))\n",
    "print(\"\")\n",
    "print(df.min(axis=1))"
   ]
  },
  {
   "cell_type": "code",
   "execution_count": 23,
   "id": "57516167",
   "metadata": {},
   "outputs": [
    {
     "name": "stdout",
     "output_type": "stream",
     "text": [
      "3500.0\n",
      "\n",
      "TCS      3500.0\n",
      "WIPRO    3500.0\n",
      "L&T      3500.0\n",
      "dtype: float64\n",
      "\n",
      "Qtr1    2000.0\n",
      "Qtr2    3000.0\n",
      "Qtr3    4000.0\n",
      "Qtr4    5000.0\n",
      "dtype: float64\n"
     ]
    }
   ],
   "source": [
    "#mean\n",
    "print(df['WIPRO'].mean())\n",
    "print(\"\")\n",
    "print(df.mean(axis=0))\n",
    "print(\"\")\n",
    "print(df.mean(axis=1))"
   ]
  },
  {
   "cell_type": "code",
   "execution_count": 24,
   "id": "04079a60",
   "metadata": {},
   "outputs": [
    {
     "name": "stdout",
     "output_type": "stream",
     "text": [
      "3500.0\n",
      "\n",
      "TCS      3500.0\n",
      "WIPRO    3500.0\n",
      "L&T      3500.0\n",
      "dtype: float64\n",
      "\n",
      "Qtr1    2000.0\n",
      "Qtr2    3000.0\n",
      "Qtr3    4000.0\n",
      "Qtr4    5000.0\n",
      "dtype: float64\n"
     ]
    }
   ],
   "source": [
    "#median\n",
    "print(df['WIPRO'].median())\n",
    "print(\"\")\n",
    "print(df.median(axis=0))\n",
    "print(\"\")\n",
    "print(df.median(axis=1))"
   ]
  },
  {
   "cell_type": "code",
   "execution_count": 25,
   "id": "3fcc997e",
   "metadata": {},
   "outputs": [
    {
     "name": "stdout",
     "output_type": "stream",
     "text": [
      "0    2000\n",
      "1    3000\n",
      "2    4000\n",
      "3    5000\n",
      "Name: WIPRO, dtype: int64\n",
      "\n",
      "    TCS  WIPRO   L&T\n",
      "0  2000   2000  2000\n",
      "1  3000   3000  3000\n",
      "2  4000   4000  4000\n",
      "3  5000   5000  5000\n",
      "\n",
      "         0\n",
      "Qtr1  2000\n",
      "Qtr2  3000\n",
      "Qtr3  4000\n",
      "Qtr4  5000\n"
     ]
    }
   ],
   "source": [
    "#mode\n",
    "print(df['WIPRO'].mode())\n",
    "print(\"\")\n",
    "print(df.mode(axis=0))\n",
    "print(\"\")\n",
    "print(df.mode(axis=1))"
   ]
  },
  {
   "cell_type": "code",
   "execution_count": 26,
   "id": "d8303ae2",
   "metadata": {},
   "outputs": [
    {
     "name": "stdout",
     "output_type": "stream",
     "text": [
      "14000\n",
      "\n",
      "TCS      14000\n",
      "WIPRO    14000\n",
      "L&T      14000\n",
      "dtype: int64\n",
      "\n",
      "Qtr1     6000\n",
      "Qtr2     9000\n",
      "Qtr3    12000\n",
      "Qtr4    15000\n",
      "dtype: int64\n"
     ]
    }
   ],
   "source": [
    "#sum\n",
    "print(df['WIPRO'].sum())\n",
    "print(\"\")\n",
    "print(df.sum(axis=0))\n",
    "print(\"\")\n",
    "print(df.sum(axis=1))"
   ]
  },
  {
   "cell_type": "code",
   "execution_count": 27,
   "id": "81bf1964",
   "metadata": {},
   "outputs": [
    {
     "name": "stdout",
     "output_type": "stream",
     "text": [
      "[2000 3000 4000 5000]\n"
     ]
    }
   ],
   "source": [
    "#unique\n",
    "print(df['WIPRO'].unique())"
   ]
  },
  {
   "cell_type": "code",
   "execution_count": 28,
   "id": "de1d8014",
   "metadata": {},
   "outputs": [
    {
     "name": "stdout",
     "output_type": "stream",
     "text": [
      "4\n"
     ]
    }
   ],
   "source": [
    "#nunique\n",
    "print(df['WIPRO'].nunique())"
   ]
  },
  {
   "cell_type": "code",
   "execution_count": 29,
   "id": "284c1aeb",
   "metadata": {},
   "outputs": [
    {
     "name": "stdout",
     "output_type": "stream",
     "text": [
      "4\n"
     ]
    }
   ],
   "source": [
    "#count\n",
    "print(df['WIPRO'].count())"
   ]
  },
  {
   "cell_type": "code",
   "execution_count": 32,
   "id": "ee945467",
   "metadata": {},
   "outputs": [
    {
     "name": "stdout",
     "output_type": "stream",
     "text": [
      "WIPRO\n",
      "2000    1\n",
      "3000    1\n",
      "4000    1\n",
      "5000    1\n",
      "Name: count, dtype: int64\n"
     ]
    }
   ],
   "source": [
    "#value_counts\n",
    "print(df['WIPRO'].value_counts())"
   ]
  },
  {
   "cell_type": "code",
   "execution_count": 33,
   "id": "fa7ca526",
   "metadata": {},
   "outputs": [
    {
     "data": {
      "text/plain": [
       "4"
      ]
     },
     "execution_count": 33,
     "metadata": {},
     "output_type": "execute_result"
    }
   ],
   "source": [
    "#length\n",
    "len(df)"
   ]
  },
  {
   "cell_type": "code",
   "execution_count": 34,
   "id": "441648c1",
   "metadata": {},
   "outputs": [
    {
     "name": "stdout",
     "output_type": "stream",
     "text": [
      "Qtr1    2000\n",
      "Qtr2    3000\n",
      "Qtr3    4000\n",
      "Qtr4    5000\n",
      "Name: WIPRO, dtype: int64\n"
     ]
    }
   ],
   "source": [
    "#sort_values\n",
    "print(df['WIPRO'].sort_values())"
   ]
  },
  {
   "cell_type": "code",
   "execution_count": 35,
   "id": "dc357b26",
   "metadata": {},
   "outputs": [
    {
     "name": "stdout",
     "output_type": "stream",
     "text": [
      "Qtr1    False\n",
      "Qtr2    False\n",
      "Qtr3    False\n",
      "Qtr4    False\n",
      "Name: WIPRO, dtype: bool\n"
     ]
    }
   ],
   "source": [
    "#isnull\n",
    "print(df['WIPRO'].isnull())"
   ]
  },
  {
   "cell_type": "code",
   "execution_count": 36,
   "id": "46a09d75",
   "metadata": {},
   "outputs": [
    {
     "data": {
      "text/plain": [
       "Qtr1     4000\n",
       "Qtr2     6000\n",
       "Qtr3     8000\n",
       "Qtr4    10000\n",
       "Name: WIPRO, dtype: int64"
      ]
     },
     "execution_count": 36,
     "metadata": {},
     "output_type": "execute_result"
    }
   ],
   "source": [
    "#To use function\n",
    "def times2(x):\n",
    "    return x*2\n",
    "df['WIPRO'].apply(times2)"
   ]
  },
  {
   "cell_type": "code",
   "execution_count": 37,
   "id": "587e5c55",
   "metadata": {},
   "outputs": [
    {
     "data": {
      "text/plain": [
       "Qtr1     4000\n",
       "Qtr2     6000\n",
       "Qtr3     8000\n",
       "Qtr4    10000\n",
       "Name: WIPRO, dtype: int64"
      ]
     },
     "execution_count": 37,
     "metadata": {},
     "output_type": "execute_result"
    }
   ],
   "source": [
    "#Lambda\n",
    "df['WIPRO'].apply(lambda x:x*2)"
   ]
  },
  {
   "cell_type": "code",
   "execution_count": null,
   "id": "9846065e",
   "metadata": {},
   "outputs": [],
   "source": [
    "#GroupBy\n",
    "df.groupby('Company')\n",
    "byComp=df.groupby('Company')\n",
    "byComp.sum()"
   ]
  }
 ],
 "metadata": {
  "kernelspec": {
   "display_name": "Python 3 (ipykernel)",
   "language": "python",
   "name": "python3"
  },
  "language_info": {
   "codemirror_mode": {
    "name": "ipython",
    "version": 3
   },
   "file_extension": ".py",
   "mimetype": "text/x-python",
   "name": "python",
   "nbconvert_exporter": "python",
   "pygments_lexer": "ipython3",
   "version": "3.11.4"
  }
 },
 "nbformat": 4,
 "nbformat_minor": 5
}
