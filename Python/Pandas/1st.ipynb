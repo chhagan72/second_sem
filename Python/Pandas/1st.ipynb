{
 "cells": [
  {
   "cell_type": "code",
   "execution_count": 1,
   "metadata": {},
   "outputs": [
    {
     "name": "stdout",
     "output_type": "stream",
     "text": [
      "     Year Industry_aggregation_NZSIOC Industry_code_NZSIOC  \\\n",
      "0    2021                     Level 1                99999   \n",
      "1    2021                     Level 1                99999   \n",
      "2    2021                     Level 1                99999   \n",
      "3    2021                     Level 1                99999   \n",
      "4    2021                     Level 1                99999   \n",
      "..    ...                         ...                  ...   \n",
      "114  2021                     Level 4                AA111   \n",
      "115  2021                     Level 4                AA111   \n",
      "116  2021                     Level 4                AA111   \n",
      "117  2021                     Level 4                AA111   \n",
      "118  2021                     Level 4                AA111   \n",
      "\n",
      "               Industry_name_NZSIOC               Units Variable_code  \\\n",
      "0                    All industries  Dollars (millions)           H01   \n",
      "1                    All industries  Dollars (millions)           H04   \n",
      "2                    All industries  Dollars (millions)           H05   \n",
      "3                    All industries  Dollars (millions)           H07   \n",
      "4                    All industries  Dollars (millions)           H08   \n",
      "..                              ...                 ...           ...   \n",
      "114  Horticulture and Fruit Growing  Dollars (millions)           H33   \n",
      "115  Horticulture and Fruit Growing             Dollars           H34   \n",
      "116  Horticulture and Fruit Growing             Dollars           H35   \n",
      "117  Horticulture and Fruit Growing          Percentage           H36   \n",
      "118  Horticulture and Fruit Growing          Percentage           H37   \n",
      "\n",
      "                                       Variable_name      Variable_category  \\\n",
      "0                                       Total income  Financial performance   \n",
      "1    Sales, government funding, grants and subsidies  Financial performance   \n",
      "2                  Interest, dividends and donations  Financial performance   \n",
      "3                               Non-operating income  Financial performance   \n",
      "4                                  Total expenditure  Financial performance   \n",
      "..                                               ...                    ...   \n",
      "114                                Other liabilities     Financial position   \n",
      "115                  Total income per employee count       Financial ratios   \n",
      "116                       Surplus per employee count       Financial ratios   \n",
      "117                                    Current ratio       Financial ratios   \n",
      "118                                      Quick ratio       Financial ratios   \n",
      "\n",
      "        Value                             Industry_code_ANZSIC06  \n",
      "0    7,57,504  ANZSIC06 divisions A-S (excluding classes K633...  \n",
      "1    6,74,890  ANZSIC06 divisions A-S (excluding classes K633...  \n",
      "2      49,593  ANZSIC06 divisions A-S (excluding classes K633...  \n",
      "3      33,020  ANZSIC06 divisions A-S (excluding classes K633...  \n",
      "4    6,54,404  ANZSIC06 divisions A-S (excluding classes K633...  \n",
      "..        ...                                                ...  \n",
      "114     4,975               ANZSIC06 groups A011, A012, and A013  \n",
      "115  2,04,000               ANZSIC06 groups A011, A012, and A013  \n",
      "116    38,700               ANZSIC06 groups A011, A012, and A013  \n",
      "117        80               ANZSIC06 groups A011, A012, and A013  \n",
      "118        70               ANZSIC06 groups A011, A012, and A013  \n",
      "\n",
      "[119 rows x 10 columns]\n"
     ]
    }
   ],
   "source": [
    "import pandas as pd\n",
    "a = pd.read_csv(r\"data.csv\")\n",
    "print(a)"
   ]
  }
 ],
 "metadata": {
  "kernelspec": {
   "display_name": "Python 3",
   "language": "python",
   "name": "python3"
  },
  "language_info": {
   "codemirror_mode": {
    "name": "ipython",
    "version": 3
   },
   "file_extension": ".py",
   "mimetype": "text/x-python",
   "name": "python",
   "nbconvert_exporter": "python",
   "pygments_lexer": "ipython3",
   "version": "3.11.4"
  }
 },
 "nbformat": 4,
 "nbformat_minor": 2
}
