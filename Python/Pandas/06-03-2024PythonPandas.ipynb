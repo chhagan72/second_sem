{
 "cells": [
  {
   "cell_type": "code",
   "execution_count": 1,
   "id": "4c2ba53a",
   "metadata": {},
   "outputs": [],
   "source": [
    "#Data Analytics\n",
    "#1.Numpy\n",
    "#2.Pandas\n",
    "#3.Matplotlib"
   ]
  },
  {
   "cell_type": "code",
   "execution_count": 3,
   "id": "c14c90e4",
   "metadata": {},
   "outputs": [],
   "source": [
    "#Pandas\n",
    "#Series and DataFrame\n",
    "#Series - One dimensional - 1D (Stores homogeneous data size immutable)\n",
    "#Data Frame - (Multidimensional rows and columns) - 2D (Stores heterogeneous data size mutable)\n",
    "#Panel - 3D"
   ]
  },
  {
   "cell_type": "code",
   "execution_count": 4,
   "id": "16543d6d",
   "metadata": {},
   "outputs": [],
   "source": [
    "#Data Handling Operations - Slicing,Merging,Sorting,Concating"
   ]
  },
  {
   "cell_type": "code",
   "execution_count": 7,
   "id": "f17312c0",
   "metadata": {},
   "outputs": [],
   "source": [
    "#1.Series\n",
    "#Series is always mutable but size is immutable"
   ]
  },
  {
   "cell_type": "code",
   "execution_count": null,
   "id": "88c2b5d7",
   "metadata": {},
   "outputs": [],
   "source": [
    "#6 Methods to create a series"
   ]
  },
  {
   "cell_type": "code",
   "execution_count": 1,
   "id": "ae442803",
   "metadata": {},
   "outputs": [
    {
     "name": "stdout",
     "output_type": "stream",
     "text": [
      "0    32\n",
      "1    69\n",
      "2    67\n",
      "3    25\n",
      "4    15\n",
      "5    80\n",
      "6    78\n",
      "dtype: int32\n"
     ]
    }
   ],
   "source": [
    "#1 Method - using nd array\n",
    "import pandas as pd\n",
    "import numpy as np\n",
    "array=np.array([32,69,67,25,15,80,78])\n",
    "s=pd.Series(array)\n",
    "print(s)"
   ]
  },
  {
   "cell_type": "code",
   "execution_count": 27,
   "id": "e83a666d",
   "metadata": {},
   "outputs": [
    {
     "name": "stdout",
     "output_type": "stream",
     "text": [
      "1    32\n",
      "2    69\n",
      "3    67\n",
      "4    25\n",
      "5    15\n",
      "6    80\n",
      "7    78\n",
      "dtype: int32\n"
     ]
    }
   ],
   "source": [
    "#Changing index - using index\n",
    "array=np.array([32,69,67,25,15,80,78])\n",
    "s=pd.Series(array,index=[1,2,3,4,5,6,7])\n",
    "print(s)"
   ]
  },
  {
   "cell_type": "code",
   "execution_count": 2,
   "id": "32d4b3b9",
   "metadata": {},
   "outputs": [
    {
     "name": "stdout",
     "output_type": "stream",
     "text": [
      "1    10\n",
      "2    10\n",
      "3    10\n",
      "4    10\n",
      "5    10\n",
      "dtype: int64\n"
     ]
    }
   ],
   "source": [
    "#2 Method - using scalar value\n",
    "import pandas as pd\n",
    "import numpy as np\n",
    "s=pd.Series(10,index=[1,2,3,4,5])\n",
    "print(s)"
   ]
  },
  {
   "cell_type": "code",
   "execution_count": 33,
   "id": "6118585d",
   "metadata": {},
   "outputs": [
    {
     "name": "stdout",
     "output_type": "stream",
     "text": [
      "0      NaN\n",
      "1    Rishi\n",
      "2      Ram\n",
      "dtype: object\n"
     ]
    }
   ],
   "source": [
    "#3 Method - using dictionary\n",
    "import pandas as pd\n",
    "import numpy as np\n",
    "dict={1:\"Rishi\",2:\"Ram\"}\n",
    "s=pd.Series(dict,index=[0,1,2])\n",
    "print(s)"
   ]
  },
  {
   "cell_type": "code",
   "execution_count": 36,
   "id": "20e0b92a",
   "metadata": {},
   "outputs": [
    {
     "name": "stdout",
     "output_type": "stream",
     "text": [
      "0    Rishi\n",
      "1      Ram\n",
      "dtype: object\n"
     ]
    }
   ],
   "source": [
    "#4 Method - using list\n",
    "import pandas as pd\n",
    "import numpy as np\n",
    "list=(\"Rishi\",\"Ram\")\n",
    "s=pd.Series(list,index=[0,1])\n",
    "print(s)"
   ]
  },
  {
   "cell_type": "code",
   "execution_count": 22,
   "id": "7ff14c73",
   "metadata": {},
   "outputs": [
    {
     "name": "stdout",
     "output_type": "stream",
     "text": [
      "1    32\n",
      "2    69\n",
      "3    67\n",
      "4    25\n",
      "5    15\n",
      "6    80\n",
      "7    78\n",
      "dtype: int64\n"
     ]
    }
   ],
   "source": [
    "\n",
    "s=pd.Series([32,69,67,25,15,80,78],[1,2,3,4,5,6,7])\n",
    "print(s)"
   ]
  },
  {
   "cell_type": "code",
   "execution_count": 23,
   "id": "f784e68c",
   "metadata": {},
   "outputs": [
    {
     "name": "stdout",
     "output_type": "stream",
     "text": [
      "a    1\n",
      "b    2\n",
      "c    3\n",
      "d    4\n",
      "e    5\n",
      "dtype: int64\n"
     ]
    }
   ],
   "source": [
    "\n",
    "s=pd.Series([1,2,3,4,5],[\"a\",\"b\",\"c\",\"d\",\"e\"])\n",
    "print(s)"
   ]
  },
  {
   "cell_type": "code",
   "execution_count": null,
   "id": "752a6e3c",
   "metadata": {},
   "outputs": [],
   "source": []
  },
  {
   "cell_type": "code",
   "execution_count": 3,
   "id": "1d507ee9",
   "metadata": {},
   "outputs": [
    {
     "name": "stdout",
     "output_type": "stream",
     "text": [
      "hello\n"
     ]
    }
   ],
   "source": [
    "print(\"hello\")"
   ]
  },
  {
   "cell_type": "code",
   "execution_count": null,
   "id": "eb8f3c45",
   "metadata": {},
   "outputs": [],
   "source": []
  }
 ],
 "metadata": {
  "kernelspec": {
   "display_name": "Python 3 (ipykernel)",
   "language": "python",
   "name": "python3"
  },
  "language_info": {
   "codemirror_mode": {
    "name": "ipython",
    "version": 3
   },
   "file_extension": ".py",
   "mimetype": "text/x-python",
   "name": "python",
   "nbconvert_exporter": "python",
   "pygments_lexer": "ipython3",
   "version": "3.11.4"
  }
 },
 "nbformat": 4,
 "nbformat_minor": 5
}
